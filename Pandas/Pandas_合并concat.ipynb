{
 "cells": [
  {
   "cell_type": "markdown",
   "metadata": {},
   "source": [
    "### Pandas_合并concat"
   ]
  },
  {
   "cell_type": "markdown",
   "metadata": {},
   "source": [
    "#### concat合并"
   ]
  },
  {
   "cell_type": "code",
   "execution_count": 28,
   "metadata": {},
   "outputs": [
    {
     "name": "stdout",
     "output_type": "stream",
     "text": [
      "     a    b    c    d\n",
      "0  0.0  0.0  0.0  0.0\n",
      "1  0.0  0.0  0.0  0.0\n",
      "2  0.0  0.0  0.0  0.0\n",
      "0  1.0  1.0  1.0  1.0\n",
      "1  1.0  1.0  1.0  1.0\n",
      "2  1.0  1.0  1.0  1.0\n",
      "0  2.0  2.0  2.0  2.0\n",
      "1  2.0  2.0  2.0  2.0\n",
      "2  2.0  2.0  2.0  2.0\n"
     ]
    }
   ],
   "source": [
    "import pandas as pd\n",
    "import numpy as np\n",
    "\n",
    "df1 = pd.DataFrame(np.ones((3,4))*0,columns=('a','b','c','d'))\n",
    "df2 = pd.DataFrame(np.ones((3,4))*1,columns=('a','b','c','d'))\n",
    "df3 = pd.DataFrame(np.ones((3,4))*2,columns=('a','b','c','d'))\n",
    "df4 = pd.DataFrame(np.ones((3,4))*0,columns=('a','b','c','d'),index = [1,2,3])\n",
    "df5 = pd.DataFrame(np.ones((3,4))*1,columns=('b','c','d','e'),index = [2,3,4])\n",
    "\n",
    "res = pd.concat([df1,df2,df3], axis = 0)    #0是行合并 1是列合并\n",
    "print(res)"
   ]
  },
  {
   "cell_type": "markdown",
   "metadata": {},
   "source": [
    "#### Index重置"
   ]
  },
  {
   "cell_type": "code",
   "execution_count": 13,
   "metadata": {},
   "outputs": [
    {
     "name": "stdout",
     "output_type": "stream",
     "text": [
      "     a    b    c    d\n",
      "0  0.0  0.0  0.0  0.0\n",
      "1  0.0  0.0  0.0  0.0\n",
      "2  0.0  0.0  0.0  0.0\n",
      "3  1.0  1.0  1.0  1.0\n",
      "4  1.0  1.0  1.0  1.0\n",
      "5  1.0  1.0  1.0  1.0\n",
      "6  2.0  2.0  2.0  2.0\n",
      "7  2.0  2.0  2.0  2.0\n",
      "8  2.0  2.0  2.0  2.0\n"
     ]
    }
   ],
   "source": [
    "res = pd.concat([df1,df2,df3], axis = 0, ignore_index=True)    #0是行合并 1是列合并\n",
    "print(res)"
   ]
  },
  {
   "cell_type": "markdown",
   "metadata": {},
   "source": [
    "#### join合并(外)(内)"
   ]
  },
  {
   "cell_type": "code",
   "execution_count": 32,
   "metadata": {},
   "outputs": [
    {
     "name": "stdout",
     "output_type": "stream",
     "text": [
      "     a    b    c    d    e\n",
      "1  0.0  0.0  0.0  0.0  NaN\n",
      "2  0.0  0.0  0.0  0.0  NaN\n",
      "3  0.0  0.0  0.0  0.0  NaN\n",
      "2  NaN  1.0  1.0  1.0  1.0\n",
      "3  NaN  1.0  1.0  1.0  1.0\n",
      "4  NaN  1.0  1.0  1.0  1.0\n"
     ]
    }
   ],
   "source": [
    "res = pd.concat([df4,df5], axis=0,join='outer', sort = True)\n",
    "print(res)"
   ]
  },
  {
   "cell_type": "code",
   "execution_count": 43,
   "metadata": {},
   "outputs": [
    {
     "name": "stdout",
     "output_type": "stream",
     "text": [
      "     b    c    d\n",
      "1  0.0  0.0  0.0\n",
      "2  0.0  0.0  0.0\n",
      "3  0.0  0.0  0.0\n",
      "2  1.0  1.0  1.0\n",
      "3  1.0  1.0  1.0\n",
      "4  1.0  1.0  1.0\n",
      "\n",
      "重置index:\n",
      "\n",
      "     b    c    d\n",
      "0  0.0  0.0  0.0\n",
      "1  0.0  0.0  0.0\n",
      "2  0.0  0.0  0.0\n",
      "3  1.0  1.0  1.0\n",
      "4  1.0  1.0  1.0\n",
      "5  1.0  1.0  1.0\n"
     ]
    }
   ],
   "source": [
    "res = pd.concat([df4,df5], axis=0,join='inner')\n",
    "print(res)\n",
    "print('\\n'+'重置index:'+'\\n')\n",
    "res = pd.concat([df4,df5], axis=0,join='inner',ignore_index=True)\n",
    "print(res)"
   ]
  },
  {
   "cell_type": "markdown",
   "metadata": {},
   "source": [
    "#### join_axes(依照axes合并)"
   ]
  },
  {
   "cell_type": "code",
   "execution_count": 46,
   "metadata": {
    "scrolled": true
   },
   "outputs": [
    {
     "name": "stdout",
     "output_type": "stream",
     "text": [
      "     a    b    c    d    b    c    d    e\n",
      "1  0.0  0.0  0.0  0.0  NaN  NaN  NaN  NaN\n",
      "2  0.0  0.0  0.0  0.0  1.0  1.0  1.0  1.0\n",
      "3  0.0  0.0  0.0  0.0  1.0  1.0  1.0  1.0\n",
      "\n",
      "无axes限制：\n",
      "     a    b    c    d    b    c    d    e\n",
      "1  0.0  0.0  0.0  0.0  NaN  NaN  NaN  NaN\n",
      "2  0.0  0.0  0.0  0.0  1.0  1.0  1.0  1.0\n",
      "3  0.0  0.0  0.0  0.0  1.0  1.0  1.0  1.0\n",
      "4  NaN  NaN  NaN  NaN  1.0  1.0  1.0  1.0\n"
     ]
    }
   ],
   "source": [
    "res = pd.concat([df4,df5], axis=1,join_axes=[df4.index]) #根据df4的index合并 axis为1为行合并\n",
    "print(res)\n",
    "print('\\n'+'无axes限制：')\n",
    "res = pd.concat([df4,df5], axis=1)\n",
    "print(res)"
   ]
  },
  {
   "cell_type": "markdown",
   "metadata": {},
   "source": [
    "#### 添加数据"
   ]
  },
  {
   "cell_type": "code",
   "execution_count": 48,
   "metadata": {},
   "outputs": [
    {
     "name": "stdout",
     "output_type": "stream",
     "text": [
      "     a    b    c    d\n",
      "0  0.0  0.0  0.0  0.0\n",
      "1  0.0  0.0  0.0  0.0\n",
      "2  0.0  0.0  0.0  0.0\n",
      "3  1.0  1.0  1.0  1.0\n",
      "4  1.0  1.0  1.0  1.0\n",
      "5  1.0  1.0  1.0  1.0\n"
     ]
    }
   ],
   "source": [
    "res = df1.append(df2, ignore_index=True)\n",
    "print(res)"
   ]
  },
  {
   "cell_type": "code",
   "execution_count": 49,
   "metadata": {
    "scrolled": true
   },
   "outputs": [
    {
     "name": "stdout",
     "output_type": "stream",
     "text": [
      "     a    b    c    d\n",
      "0  0.0  0.0  0.0  0.0\n",
      "1  0.0  0.0  0.0  0.0\n",
      "2  0.0  0.0  0.0  0.0\n",
      "3  1.0  1.0  1.0  1.0\n",
      "4  1.0  1.0  1.0  1.0\n",
      "5  1.0  1.0  1.0  1.0\n",
      "6  2.0  2.0  2.0  2.0\n",
      "7  2.0  2.0  2.0  2.0\n",
      "8  2.0  2.0  2.0  2.0\n"
     ]
    }
   ],
   "source": [
    "res = df1.append([df2,df3], ignore_index=True)\n",
    "print(res)"
   ]
  },
  {
   "cell_type": "code",
   "execution_count": 51,
   "metadata": {},
   "outputs": [
    {
     "name": "stdout",
     "output_type": "stream",
     "text": [
      "     a    b    c    d\n",
      "0  0.0  0.0  0.0  0.0\n",
      "1  0.0  0.0  0.0  0.0\n",
      "2  0.0  0.0  0.0  0.0\n",
      "3  1.0  2.0  3.0  4.0\n"
     ]
    }
   ],
   "source": [
    "s1 = pd.Series([1,2,3,4], index=['a','b','c','d'])\n",
    "res = df1.append(s1, ignore_index=True)\n",
    "print(res)"
   ]
  }
 ],
 "metadata": {
  "kernelspec": {
   "display_name": "Python 3",
   "language": "python",
   "name": "python3"
  },
  "language_info": {
   "codemirror_mode": {
    "name": "ipython",
    "version": 3
   },
   "file_extension": ".py",
   "mimetype": "text/x-python",
   "name": "python",
   "nbconvert_exporter": "python",
   "pygments_lexer": "ipython3",
   "version": "3.7.0"
  }
 },
 "nbformat": 4,
 "nbformat_minor": 2
}
